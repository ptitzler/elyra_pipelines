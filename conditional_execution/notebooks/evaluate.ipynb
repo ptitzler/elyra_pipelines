{
 "cells": [
  {
   "cell_type": "markdown",
   "id": "located-mailman",
   "metadata": {
    "papermill": {
     "duration": 0.004751,
     "end_time": "2021-01-29T18:05:03.127397",
     "exception": false,
     "start_time": "2021-01-29T18:05:03.122646",
     "status": "completed"
    },
    "tags": []
   },
   "source": [
    "This notebook generates a file named `eval_output.txt`, which contains an integer value between 0 and 10. The file is declared as an output file in the evaluate.ipynb node to make it available to downstream notebooks."
   ]
  },
  {
   "cell_type": "code",
   "execution_count": null,
   "id": "increasing-syria",
   "metadata": {
    "papermill": {
     "duration": 0.013336,
     "end_time": "2021-01-29T18:05:03.143970",
     "exception": false,
     "start_time": "2021-01-29T18:05:03.130634",
     "status": "completed"
    },
    "tags": []
   },
   "outputs": [],
   "source": [
    "from random import randint\n",
    "\n",
    "# Generate random value between 0 and 10\n",
    "result_value = randint(0, 10)\n",
    "\n",
    "# Save value ineval_output.txt\n",
    "with open('eval_output.txt', 'w') as output:\n",
    "    output.write(str(result_value))"
   ]
  },
  {
   "cell_type": "code",
   "execution_count": null,
   "id": "developmental-blend",
   "metadata": {
    "papermill": {
     "duration": 0.008268,
     "end_time": "2021-01-29T18:05:03.154707",
     "exception": false,
     "start_time": "2021-01-29T18:05:03.146439",
     "status": "completed"
    },
    "tags": []
   },
   "outputs": [],
   "source": [
    "print('The condition yielded {}.'.format(result_value))"
   ]
  }
 ],
 "metadata": {
  "kernelspec": {
   "display_name": "Python 3",
   "language": "python",
   "name": "python3"
  },
  "language_info": {
   "codemirror_mode": {
    "name": "ipython",
    "version": 3
   },
   "file_extension": ".py",
   "mimetype": "text/x-python",
   "name": "python",
   "nbconvert_exporter": "python",
   "pygments_lexer": "ipython3",
   "version": "3.7.9"
  },
  "papermill": {
   "default_parameters": {},
   "duration": 0.938771,
   "end_time": "2021-01-29T18:05:03.368064",
   "environment_variables": {},
   "exception": null,
   "input_path": "/Users/patti/elyra_ga/workspace/conditionals/evaluate.ipynb",
   "output_path": "/Users/patti/elyra_ga/workspace/conditionals/evaluate.ipynb",
   "parameters": {},
   "start_time": "2021-01-29T18:05:02.429293",
   "version": "2.3.1"
  }
 },
 "nbformat": 4,
 "nbformat_minor": 5
}
