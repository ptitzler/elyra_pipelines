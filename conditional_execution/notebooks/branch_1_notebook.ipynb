{
 "cells": [
  {
   "cell_type": "markdown",
   "id": "driving-cleaner",
   "metadata": {
    "papermill": {
     "duration": 0.005443,
     "end_time": "2021-01-29T18:05:05.262804",
     "exception": false,
     "start_time": "2021-01-29T18:05:05.257361",
     "status": "completed"
    },
    "tags": []
   },
   "source": [
    "This notebook conditionally executes code cells if a file named `eval_output.txt` exists and contains an integer value <=5."
   ]
  },
  {
   "cell_type": "markdown",
   "id": "senior-ferry",
   "metadata": {},
   "source": [
    "Import the kernel extension code that defines the `%%skip` cell magic."
   ]
  },
  {
   "cell_type": "code",
   "execution_count": null,
   "id": "registered-monthly",
   "metadata": {
    "papermill": {
     "duration": 0.013034,
     "end_time": "2021-01-29T18:05:05.279780",
     "exception": false,
     "start_time": "2021-01-29T18:05:05.266746",
     "status": "completed"
    },
    "tags": []
   },
   "outputs": [],
   "source": [
    "%load skip_kernel_extension.py"
   ]
  },
  {
   "cell_type": "markdown",
   "id": "lyric-standard",
   "metadata": {},
   "source": [
    "Load the imported kernel extension code and determine wether subsequent cells need to be executed (`ignore==False`) or not (`ignore==True`). The default is `ignore==False`."
   ]
  },
  {
   "cell_type": "code",
   "execution_count": null,
   "id": "straight-florist",
   "metadata": {
    "papermill": {
     "duration": 0.010194,
     "end_time": "2021-01-29T18:05:05.292736",
     "exception": false,
     "start_time": "2021-01-29T18:05:05.282542",
     "status": "completed"
    },
    "tags": []
   },
   "outputs": [],
   "source": [
    "%load_ext skip_kernel_extension\n",
    "\n",
    "try:\n",
    "    ignore = False\n",
    "    with open('eval_output.txt') as condition:\n",
    "        condition_val = int(condition.readline())\n",
    "    if condition_val <= 5:\n",
    "        ignore = True\n",
    "except Exception:\n",
    "    # File doesn't exist, doesn't contain an integer value in the first line\n",
    "    # or the value is <= 5.\n",
    "    ignore = True"
   ]
  },
  {
   "cell_type": "markdown",
   "id": "assumed-vessel",
   "metadata": {},
   "source": [
    "The `%%skip` cell magic determines whether this cell is executed or not."
   ]
  },
  {
   "cell_type": "code",
   "execution_count": null,
   "id": "nasty-shield",
   "metadata": {
    "papermill": {
     "duration": 0.007963,
     "end_time": "2021-01-29T18:05:05.303565",
     "exception": false,
     "start_time": "2021-01-29T18:05:05.295602",
     "status": "completed"
    },
    "tags": []
   },
   "outputs": [],
   "source": [
    "%%skip $ignore\n",
    "\n",
    "print('Running a cell in branch_1_notebook.ipynb')"
   ]
  }
 ],
 "metadata": {
  "kernelspec": {
   "display_name": "Python 3",
   "language": "python",
   "name": "python3"
  },
  "language_info": {
   "codemirror_mode": {
    "name": "ipython",
    "version": 3
   },
   "file_extension": ".py",
   "mimetype": "text/x-python",
   "name": "python",
   "nbconvert_exporter": "python",
   "pygments_lexer": "ipython3",
   "version": "3.7.9"
  },
  "papermill": {
   "default_parameters": {},
   "duration": 1.116029,
   "end_time": "2021-01-29T18:05:05.521047",
   "environment_variables": {},
   "exception": null,
   "input_path": "/Users/patti/elyra_ga/workspace/conditionals/branch_1_notebook.ipynb",
   "output_path": "/Users/patti/elyra_ga/workspace/conditionals/branch_1_notebook.ipynb",
   "parameters": {},
   "start_time": "2021-01-29T18:05:04.405018",
   "version": "2.3.1"
  }
 },
 "nbformat": 4,
 "nbformat_minor": 5
}
